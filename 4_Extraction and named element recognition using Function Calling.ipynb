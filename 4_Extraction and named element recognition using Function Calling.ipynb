{
 "cells": [
  {
   "cell_type": "markdown",
   "id": "3aa9faec",
   "metadata": {},
   "source": [
    "# Creating a classifier with OpenAI function calling"
   ]
  },
  {
   "cell_type": "code",
   "execution_count": 6,
   "id": "269897d0",
   "metadata": {},
   "outputs": [
    {
     "name": "stdout",
     "output_type": "stream",
     "text": [
      "/media/pranshumaan/TOSHIBA EXT\n"
     ]
    }
   ],
   "source": [
    "cd /media/pranshumaan/TOSHIBA\\ EXT"
   ]
  },
  {
   "cell_type": "code",
   "execution_count": 7,
   "id": "d6acc745",
   "metadata": {},
   "outputs": [
    {
     "name": "stdout",
     "output_type": "stream",
     "text": [
      "/media/pranshumaan/TOSHIBA EXT/Dev\n"
     ]
    }
   ],
   "source": [
    "cd Dev/"
   ]
  },
  {
   "cell_type": "code",
   "execution_count": 8,
   "id": "4d4c2845",
   "metadata": {},
   "outputs": [
    {
     "name": "stdout",
     "output_type": "stream",
     "text": [
      " \u001b[0m\u001b[01;34mdata\u001b[0m/                                   \u001b[01;34mLangchain\u001b[0m/\r\n",
      " \u001b[01;34mDeep_Learning_Pytorch_Udemy_Tutorial\u001b[0m/   \u001b[01;34mProject_Finmin\u001b[0m/\r\n",
      " \u001b[01;34mGPT_Functin_Calling\u001b[0m/                   \u001b[01;34m'Project_Finmin (copy)'\u001b[0m/\r\n",
      " \u001b[01;34mGPT_Function_Calling\u001b[0m/                   \u001b[01;34mproject-finmin-docker\u001b[0m/\r\n",
      " \u001b[01;34mGradio_chatbot\u001b[0m/                         \u001b[01;34mSecrets\u001b[0m/\r\n",
      " \u001b[01;34mhosted_finmin\u001b[0m/                          \u001b[01;34mTFR_Modelling\u001b[0m/\r\n"
     ]
    }
   ],
   "source": [
    "ls"
   ]
  },
  {
   "cell_type": "code",
   "execution_count": 9,
   "id": "d9640b2c",
   "metadata": {},
   "outputs": [
    {
     "name": "stdout",
     "output_type": "stream",
     "text": [
      "/media/pranshumaan/TOSHIBA EXT/Dev/Langchain\n"
     ]
    }
   ],
   "source": [
    "cd Langchain/"
   ]
  },
  {
   "cell_type": "code",
   "execution_count": 10,
   "id": "a8f222be",
   "metadata": {},
   "outputs": [
    {
     "name": "stdout",
     "output_type": "stream",
     "text": [
      " 1_LangChain_Quickstart.ipynb             \u001b[0m\u001b[01;34mdb\u001b[0m/\r\n",
      " 2_Loader_embedding_and_vector_db.ipynb   hugging_face_api_token.txt\r\n",
      "'3_Adding AI with Models.ipynb'           open_ai_api_key.txt\r\n",
      " Andrej_Karpathy_Resume.pdf               the-need-to-read.txt\r\n"
     ]
    }
   ],
   "source": [
    "ls"
   ]
  },
  {
   "cell_type": "code",
   "execution_count": 1,
   "id": "b51cc3cd",
   "metadata": {},
   "outputs": [
    {
     "name": "stdout",
     "output_type": "stream",
     "text": [
      "Name: langchain\r\n",
      "Version: 0.0.208\r\n",
      "Summary: Building applications with LLMs through composability\r\n",
      "Home-page: https://www.github.com/hwchase17/langchain\r\n",
      "Author: \r\n",
      "Author-email: \r\n",
      "License: MIT\r\n",
      "Location: /usr/local/lib/python3.10/dist-packages\r\n",
      "Requires: aiohttp, async-timeout, dataclasses-json, langchainplus-sdk, numexpr, numpy, openapi-schema-pydantic, pydantic, PyYAML, requests, SQLAlchemy, tenacity\r\n",
      "Required-by: llama-index\r\n"
     ]
    }
   ],
   "source": [
    "!pip show langchain"
   ]
  },
  {
   "cell_type": "code",
   "execution_count": 2,
   "id": "4f914ac5",
   "metadata": {},
   "outputs": [],
   "source": [
    "from langchain.chat_models import ChatOpenAI\n",
    "from langchain.chains import create_tagging_chain, create_tagging_chain_pydantic\n",
    "from langchain.prompts import ChatPromptTemplate"
   ]
  },
  {
   "cell_type": "code",
   "execution_count": 19,
   "id": "e2d46259",
   "metadata": {},
   "outputs": [],
   "source": [
    "import openai\n",
    "import os\n",
    "\n",
    "with open('../Secrets/open_ai_api_key.txt', 'r') as file:\n",
    "    key = file.read().rstrip()\n",
    "\n",
    "\n",
    "os.environ[\"OPENAI_API_KEY\"] = key"
   ]
  },
  {
   "cell_type": "code",
   "execution_count": 20,
   "id": "7f60f07c",
   "metadata": {},
   "outputs": [],
   "source": [
    "llm = ChatOpenAI(temperature=0, model=\"gpt-3.5-turbo-0613\")"
   ]
  },
  {
   "cell_type": "code",
   "execution_count": 36,
   "id": "5ff866d9",
   "metadata": {},
   "outputs": [],
   "source": [
    "schema = {\n",
    "    \"properties\":{\n",
    "        \"year\": {\n",
    "            \"type\":\"string\",\n",
    "            \"enum\": [\"1999\", \"1872 A.D.\", \"300 BC\"],\n",
    "            \"description\": \"The year in which the combat took place\"\n",
    "        },\n",
    "        \"place\": {\n",
    "            \"type\": \"string\",\n",
    "            \"enum\": [\"Palo Alto, California\", \"Panipat, Present day Haryana, India\", \"Unknown\"],\n",
    "            \"description\": \"The place where the combat took place\"\n",
    "        },\n",
    "        \"result\": {\n",
    "            \"type\":\"string\",\n",
    "            \"enum\": [\"Decisive French victory\", \"Inconclusive\", \"Minor Indian victory\"],\n",
    "            \"description\": \"Outcome of the combat\"\n",
    "        },\n",
    "        \"casualties\": {\n",
    "            \"type\": \"string\",\n",
    "            \"enum\": [\"10,000 Viet Cong soldiers\", \"500 Pakistani and 100 Indian soldiers\", \"Unknown\"],\n",
    "            \"description\": \"Number of people killed or injured in the combat\"\n",
    "        }\n",
    "    },\n",
    "    \"required\": [\"year\", \"place\", \"result\"],\n",
    "}"
   ]
  },
  {
   "cell_type": "code",
   "execution_count": 28,
   "id": "0562dc14",
   "metadata": {},
   "outputs": [],
   "source": [
    "battle_01 = \"\"\"\n",
    "The Battle of Điện Biên Phủ (French: Bataille de Diên Biên Phu pronounced [bataj də djɛ̃ bjɛ̃ fy]; Vietnamese: Chiến dịch Điện Biên Phủ, IPA: [t͡ɕjěn zîk̚ ɗîənˀ ɓīən fû]) was a climactic confrontation of the First Indochina War that took place between 13 March and 7 May 1954. It was fought between the French Union's colonial Far East Expeditionary Corps and Viet Minh communist revolutionaries. The United States was officially not a party to the war, but it was secretly involved by providing financial and material aid to the French Union, which included CIA contracted American personnel participating in the battle. The People's Republic of China and the Soviet Union similarly provided vital support to the Viet Minh, including most of their artillery and ammunition.\n",
    "\n",
    "The French began an operation to insert, and support, their soldiers at Điện Biên Phủ, deep in the autonomous Tai Federation up in the hills northwest of Tonkin. The operation's purpose was to cut off Viet Minh supply lines into the neighboring Kingdom of Laos (a French ally), and draw the Viet Minh into a major confrontation in order to cripple them. The plan was to resupply the French position by air, a strategy adopted based on the belief that the Viet Minh had no anti-aircraft capability.\n",
    "\n",
    "The Viet Minh, however, under General Võ Nguyên Giáp, surrounded and besieged the French. They brought in vast amounts of heavy artillery (including anti-aircraft guns) and managed to move these bulky weapons through difficult terrain by individual men and women up the rear slopes of the mountains. They dug tunnels through the mountains and arranged the guns to target the French position.\n",
    "\n",
    "In March, the Viet Minh began a massive artillery bombardment of the French defenses. The strategic positioning of their artillery made it nearly impervious to French counter-battery fire. Tenacious fighting on the ground ensued, reminiscent of the trench warfare of World War I. At times, the French repulsed Viet Minh assaults on their positions while supplies and reinforcements were delivered by air. As key positions were overrun, the perimeter contracted, and the air resupply on which the French had placed their hopes became impossible. As the Viet Minh anti-aircraft fire took its toll and artillery bombarded the airstrip, effectively preventing takeoffs and landings, fewer and fewer of those supplies reached the French.\n",
    "\n",
    "The garrison was overrun in May after a two-month siege, and most of the French forces surrendered. A few men escaped to Laos. Of the 11,000 French troops captured, only 3,300 survived imprisonment. The French government in Paris resigned. The new Prime Minister, the left-of-centre Pierre Mendès France, supported French withdrawal from Indochina.\n",
    "\n",
    "The Battle of Điện Biên Phủ was decisive; the war ended shortly afterward and the 1954 Geneva Accords were signed. France agreed to withdraw its forces from all its colonies in French Indochina, while stipulating that Vietnam would be temporarily divided at the 17th parallel, with control of the north given to the Viet Minh as the Democratic Republic of Vietnam under Ho Chi Minh, and the south becoming the State of Vietnam, nominally under Emperor Bảo Đại, preventing Ho Chi Minh from gaining control of the entire country.[15] \n",
    "\"\"\""
   ]
  },
  {
   "cell_type": "code",
   "execution_count": 37,
   "id": "b3c286d4",
   "metadata": {},
   "outputs": [],
   "source": [
    "chain = create_tagging_chain(schema, llm)"
   ]
  },
  {
   "cell_type": "code",
   "execution_count": 31,
   "id": "92296652",
   "metadata": {},
   "outputs": [
    {
     "data": {
      "text/plain": [
       "{'year': '1954',\n",
       " 'place': 'Điện Biên Phủ, French Indochina',\n",
       " 'result': 'Decisive',\n",
       " 'casualties': '11,000 French troops captured, 3,300 survived imprisonment'}"
      ]
     },
     "execution_count": 31,
     "metadata": {},
     "output_type": "execute_result"
    }
   ],
   "source": [
    "chain.run(battle_01)"
   ]
  },
  {
   "cell_type": "code",
   "execution_count": 32,
   "id": "a84402ee",
   "metadata": {},
   "outputs": [],
   "source": [
    "battle_02 = \"\"\"\n",
    "The Battle of Khanwa was fought at Khanwa on March 16, 1527. It was fought between the invading Timurid forces of Babur and the Rajput Confederation led by Rana Sanga for suprermacy of Northern India. The battle was a major event in Medieval Indian history although Timurids won at Panipat but at the time, the sultanate at Delhi was a spent force that was long crumbling. To the contrary Mewar kingdom, under the able rule of Rana Sanga, had turned into one of the strongest powers of northern India. Therefore the battle was among the most decisive battles in the Mughal conquest of northern India.[8][9][10][11][12][13]\n",
    "\n",
    "It was among the earliest battles in Northern India where gunpowder was used to a great extent. The battle resulted in heavy casualties for both Timurids and Rajputs.[14] \"\"\""
   ]
  },
  {
   "cell_type": "code",
   "execution_count": 33,
   "id": "6a7c7339",
   "metadata": {},
   "outputs": [
    {
     "data": {
      "text/plain": [
       "{'year': '1527',\n",
       " 'place': 'Khanwa',\n",
       " 'result': 'Unknown',\n",
       " 'casualties': 'Heavy casualties for both Timurids and Rajputs'}"
      ]
     },
     "execution_count": 33,
     "metadata": {},
     "output_type": "execute_result"
    }
   ],
   "source": [
    "chain.run(battle_02)"
   ]
  },
  {
   "cell_type": "code",
   "execution_count": 34,
   "id": "6bc2a5d0",
   "metadata": {},
   "outputs": [],
   "source": [
    "battle_03 = \"\"\"\n",
    "The Battle of Haifa was fought on 23 September 1918 towards the end of the Battle of Sharon which together with the Battle of Nablus formed the set piece Battle of Megiddo fought between 19 and 25 September during the last months of the Sinai and Palestine Campaign of the First World War. During the Battle of Haifa, the Indian 15th (Imperial Service) Cavalry Brigade, 5th Cavalry Division and part of the Desert Mounted Corps attacked rearguard forces of the Ottoman Empire that resulted in the capture of the towns of Haifa and Acre. This attack took place at the north western edge of the Esdraelon Plain (also known as the Jezreel Valley and the plain of Armageddon), 40–50 miles (64–80 km) from Sharon.\n",
    "\n",
    "The Battle of Megiddo had begun with an attack by British Empire infantry along an almost continuous line from the Mediterranean Sea across the Plain of Sharon into the foothills of the Judean Hills. They attacked the Ottoman front line and captured the headquarters of the Ottoman Eighth Army at Tulkarm, the trenches at Tabsor and pivoted at Arara. The Eighth Army was outflanked on the coast and British Empire cavalry moved north through the gap created. The Desert Mounted Corps almost encircled the infantry in the Judean Hills capturing their main lines of supply, communications and retreat. By 25 September, one Ottoman army had been destroyed, and what remained of two others, were in retreat northwards to Damascus.\n",
    "\n",
    "The 5th Cavalry Division was assigned the task of capturing Haifa and Acre after several earlier attempts were stopped by strong rearguard positions. A squadron from the Mysore Lancers, and a squadron from the Sherwood Rangers Yeomanry, 15th (Imperial Service) Cavalry Brigade formed the initial attack on an Austrian artillery battery before moving forward with the Jodhpur Lancers and a light car patrol, to attack the main German rearguard position and capture the town. This day of 23 September every year is celebrated as Haifa Day. \"\"\""
   ]
  },
  {
   "cell_type": "code",
   "execution_count": 38,
   "id": "a8938cc4",
   "metadata": {},
   "outputs": [
    {
     "data": {
      "text/plain": [
       "{'year': '1918',\n",
       " 'place': 'Haifa and Acre',\n",
       " 'result': 'Capture of Haifa and Acre',\n",
       " 'casualties': 'Unknown'}"
      ]
     },
     "execution_count": 38,
     "metadata": {},
     "output_type": "execute_result"
    }
   ],
   "source": [
    "chain.run(battle_03)"
   ]
  },
  {
   "cell_type": "markdown",
   "id": "f96944b9",
   "metadata": {},
   "source": [
    "## Modifying the schema to remove \"Unknown\""
   ]
  },
  {
   "cell_type": "code",
   "execution_count": 40,
   "id": "cf89e278",
   "metadata": {},
   "outputs": [],
   "source": [
    "schema = {\n",
    "    \"properties\":{\n",
    "        \"year\": {\n",
    "            \"type\":\"string\",\n",
    "            \"enum\": [\"1999\", \"1872 A.D.\", \"300 BC\"],\n",
    "            \"description\": \"The year in which the combat took place\"\n",
    "        },\n",
    "        \"place\": {\n",
    "            \"type\": \"string\",\n",
    "            \"enum\": [\"Palo Alto, California\", \"Panipat, Present day Haryana, India\"],\n",
    "            \"description\": \"The place where the combat took place\"\n",
    "        },\n",
    "        \"result\": {\n",
    "            \"type\":\"string\",\n",
    "            \"enum\": [\"Decisive French victory\", \"Inconclusive\", \"Minor Indian victory\"],\n",
    "            \"description\": \"Outcome of the combat\"\n",
    "        },\n",
    "        \"casualties\": {\n",
    "            \"type\": \"string\",\n",
    "            \"enum\": [\"10,000 Viet Cong soldiers\", \"500 Pakistani and 100 Indian soldiers\"],\n",
    "            \"description\": \"Number of people killed or injured in the combat\"\n",
    "        }\n",
    "    },\n",
    "    \"required\": [\"year\", \"place\", \"result\"],\n",
    "}"
   ]
  },
  {
   "cell_type": "code",
   "execution_count": 41,
   "id": "7df50b37",
   "metadata": {},
   "outputs": [],
   "source": [
    "chain = create_tagging_chain(schema, llm)"
   ]
  },
  {
   "cell_type": "code",
   "execution_count": 42,
   "id": "69167e63",
   "metadata": {},
   "outputs": [
    {
     "data": {
      "text/plain": [
       "{'year': '1918',\n",
       " 'place': 'Haifa and Acre',\n",
       " 'result': 'Capture of Haifa and Acre',\n",
       " 'casualties': 'Unknown'}"
      ]
     },
     "execution_count": 42,
     "metadata": {},
     "output_type": "execute_result"
    }
   ],
   "source": [
    "chain.run(battle_03)"
   ]
  },
  {
   "cell_type": "code",
   "execution_count": 43,
   "id": "6e15de78",
   "metadata": {},
   "outputs": [
    {
     "data": {
      "text/plain": [
       "{'year': '1527',\n",
       " 'place': 'Khanwa',\n",
       " 'result': 'Inconclusive',\n",
       " 'casualties': 'heavy casualties for both Timurids and Rajputs'}"
      ]
     },
     "execution_count": 43,
     "metadata": {},
     "output_type": "execute_result"
    }
   ],
   "source": [
    "chain.run(battle_02)"
   ]
  },
  {
   "cell_type": "code",
   "execution_count": null,
   "id": "2e729fff",
   "metadata": {},
   "outputs": [],
   "source": []
  }
 ],
 "metadata": {
  "kernelspec": {
   "display_name": "Python 3 (ipykernel)",
   "language": "python",
   "name": "python3"
  },
  "language_info": {
   "codemirror_mode": {
    "name": "ipython",
    "version": 3
   },
   "file_extension": ".py",
   "mimetype": "text/x-python",
   "name": "python",
   "nbconvert_exporter": "python",
   "pygments_lexer": "ipython3",
   "version": "3.10.6"
  }
 },
 "nbformat": 4,
 "nbformat_minor": 5
}
