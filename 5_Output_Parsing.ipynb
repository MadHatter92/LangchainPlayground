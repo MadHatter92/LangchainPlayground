{
 "cells": [
  {
   "cell_type": "markdown",
   "id": "cfdeb4a3",
   "metadata": {},
   "source": [
    "# Output Parsing\n",
    "Getting responses in a machine parsable format"
   ]
  },
  {
   "cell_type": "markdown",
   "id": "344b6d83",
   "metadata": {},
   "source": [
    "## Navigation"
   ]
  },
  {
   "cell_type": "code",
   "execution_count": 1,
   "id": "7e182b35",
   "metadata": {},
   "outputs": [
    {
     "data": {
      "text/plain": [
       "'/home/pranshumaan'"
      ]
     },
     "execution_count": 1,
     "metadata": {},
     "output_type": "execute_result"
    }
   ],
   "source": [
    "pwd"
   ]
  },
  {
   "cell_type": "code",
   "execution_count": 2,
   "id": "9fa79fe7",
   "metadata": {},
   "outputs": [
    {
     "name": "stdout",
     "output_type": "stream",
     "text": [
      "/media/pranshumaan/TOSHIBA EXT\n"
     ]
    }
   ],
   "source": [
    "cd /media/pranshumaan/TOSHIBA\\ EXT"
   ]
  },
  {
   "cell_type": "code",
   "execution_count": 3,
   "id": "12fd6673",
   "metadata": {},
   "outputs": [
    {
     "name": "stdout",
     "output_type": "stream",
     "text": [
      "/media/pranshumaan/TOSHIBA EXT/Dev/Langchain\n"
     ]
    }
   ],
   "source": [
    "cd Dev/Langchain/"
   ]
  },
  {
   "cell_type": "code",
   "execution_count": 4,
   "id": "996f3f4f",
   "metadata": {},
   "outputs": [
    {
     "name": "stdout",
     "output_type": "stream",
     "text": [
      " 1_LangChain_Quickstart.ipynb\r\n",
      " 2_Loader_embedding_and_vector_db.ipynb\r\n",
      "'3_Adding AI with Models.ipynb'\r\n",
      "'4_Extraction and named element recognition using Function Calling.ipynb'\r\n",
      " Andrej_Karpathy_Resume.pdf\r\n",
      " battle_01\r\n",
      " battle_01.txt\r\n",
      " \u001b[0m\u001b[01;34mdb\u001b[0m/\r\n",
      " hugging_face_api_token.txt\r\n",
      " open_ai_api_key.txt\r\n",
      " the-need-to-read.txt\r\n"
     ]
    }
   ],
   "source": [
    "ls"
   ]
  },
  {
   "cell_type": "code",
   "execution_count": 7,
   "id": "e36938c1",
   "metadata": {},
   "outputs": [],
   "source": [
    "import os\n",
    "\n",
    "with open('../Secrets/open_ai_api_key.txt', 'r') as file:\n",
    "    key = file.read().rstrip()\n",
    "\n",
    "\n",
    "os.environ[\"OPENAI_API_KEY\"] = key"
   ]
  },
  {
   "cell_type": "code",
   "execution_count": 8,
   "id": "905c02ef",
   "metadata": {},
   "outputs": [],
   "source": [
    "from langchain.chat_models import ChatOpenAI\n",
    "chat_llm = ChatOpenAI(temperature=0.0)"
   ]
  },
  {
   "cell_type": "code",
   "execution_count": 9,
   "id": "fd34aa53",
   "metadata": {},
   "outputs": [],
   "source": [
    "template_string = \"\"\"\n",
    "You are a hospital help desk agent. You specialize in generating details of treatment for a disease. Take the disease name given below delimted by triple backticks and use it to generate details around Treating Department, Expected length of treatment in months, Expense incurred in the treatment and the Chances of survival of the patient.\n",
    "\n",
    "disease name: ```{disease_name}```\n",
    "\n",
    "Based on the above name, create output in JSON format with the following keys:\n",
    "treating_department\n",
    "expected_length_of_treatment_in_months\n",
    "expense_incurred_in_the_treatment\n",
    "chances_of_survival_of_the_patient\n",
    "\"\"\""
   ]
  },
  {
   "cell_type": "code",
   "execution_count": 10,
   "id": "b08e65db",
   "metadata": {},
   "outputs": [],
   "source": [
    "from langchain.prompts import ChatPromptTemplate\n",
    "\n",
    "prompt_template = ChatPromptTemplate.from_template(template_string)"
   ]
  },
  {
   "cell_type": "code",
   "execution_count": 11,
   "id": "4f76a7af",
   "metadata": {},
   "outputs": [
    {
     "data": {
      "text/plain": [
       "ChatPromptTemplate(input_variables=['disease_name'], output_parser=None, partial_variables={}, messages=[HumanMessagePromptTemplate(prompt=PromptTemplate(input_variables=['disease_name'], output_parser=None, partial_variables={}, template='\\nYou are a hospital help desk agent. You specialize in generating details of treatment for a disease. Take the disease name given below delimted by triple backticks and use it to generate details around Treating Department, Expected length of treatment in months, Expense incurred in the treatment and the Chances of survival of the patient.\\n\\ndisease name: ```{disease_name}```\\n\\nBased on the above name, create output in JSON format with the following keys:\\ntreating_department\\nexpected_length_of_treatment_in_months\\nexpense_incurred_in_the_treatment\\nchances_of_survival_of_the_patient\\n', template_format='f-string', validate_template=True), additional_kwargs={})])"
      ]
     },
     "execution_count": 11,
     "metadata": {},
     "output_type": "execute_result"
    }
   ],
   "source": [
    "prompt_template"
   ]
  },
  {
   "cell_type": "code",
   "execution_count": 13,
   "id": "d5a744e8",
   "metadata": {},
   "outputs": [
    {
     "data": {
      "text/plain": [
       "HumanMessagePromptTemplate(prompt=PromptTemplate(input_variables=['disease_name'], output_parser=None, partial_variables={}, template='\\nYou are a hospital help desk agent. You specialize in generating details of treatment for a disease. Take the disease name given below delimted by triple backticks and use it to generate details around Treating Department, Expected length of treatment in months, Expense incurred in the treatment and the Chances of survival of the patient.\\n\\ndisease name: ```{disease_name}```\\n\\nBased on the above name, create output in JSON format with the following keys:\\ntreating_department\\nexpected_length_of_treatment_in_months\\nexpense_incurred_in_the_treatment\\nchances_of_survival_of_the_patient\\n', template_format='f-string', validate_template=True), additional_kwargs={})"
      ]
     },
     "execution_count": 13,
     "metadata": {},
     "output_type": "execute_result"
    }
   ],
   "source": [
    "prompt_template.messages[0]"
   ]
  },
  {
   "cell_type": "code",
   "execution_count": 15,
   "id": "b23fa040",
   "metadata": {},
   "outputs": [],
   "source": [
    "treatment_messages = prompt_template.format_messages(disease_name=\"lymphosarcoma of the intestine\")"
   ]
  },
  {
   "cell_type": "code",
   "execution_count": 16,
   "id": "b68b9d34",
   "metadata": {},
   "outputs": [
    {
     "data": {
      "text/plain": [
       "[HumanMessage(content='\\nYou are a hospital help desk agent. You specialize in generating details of treatment for a disease. Take the disease name given below delimted by triple backticks and use it to generate details around Treating Department, Expected length of treatment in months, Expense incurred in the treatment and the Chances of survival of the patient.\\n\\ndisease name: ```lymphosarcoma of the intestine```\\n\\nBased on the above name, create output in JSON format with the following keys:\\ntreating_department\\nexpected_length_of_treatment_in_months\\nexpense_incurred_in_the_treatment\\nchances_of_survival_of_the_patient\\n', additional_kwargs={}, example=False)]"
      ]
     },
     "execution_count": 16,
     "metadata": {},
     "output_type": "execute_result"
    }
   ],
   "source": [
    "treatment_messages"
   ]
  },
  {
   "cell_type": "code",
   "execution_count": 18,
   "id": "33a1fab4",
   "metadata": {},
   "outputs": [],
   "source": [
    "consultant_response = chat_llm(treatment_messages)"
   ]
  },
  {
   "cell_type": "code",
   "execution_count": 19,
   "id": "7fed8527",
   "metadata": {},
   "outputs": [
    {
     "name": "stdout",
     "output_type": "stream",
     "text": [
      "{\n",
      "  \"treating_department\": \"Oncology\",\n",
      "  \"expected_length_of_treatment_in_months\": 6,\n",
      "  \"expense_incurred_in_the_treatment\": \"$20,000\",\n",
      "  \"chances_of_survival_of_the_patient\": \"50%\"\n",
      "}\n"
     ]
    }
   ],
   "source": [
    "print(consultant_response.content)"
   ]
  },
  {
   "cell_type": "code",
   "execution_count": 20,
   "id": "e9085502",
   "metadata": {},
   "outputs": [],
   "source": [
    "treatment_messages = prompt_template.format_messages(disease_name=\"seborrea\")"
   ]
  },
  {
   "cell_type": "code",
   "execution_count": 21,
   "id": "6af7124d",
   "metadata": {},
   "outputs": [
    {
     "name": "stdout",
     "output_type": "stream",
     "text": [
      "{\n",
      "  \"treating_department\": \"Dermatology\",\n",
      "  \"expected_length_of_treatment_in_months\": 3,\n",
      "  \"expense_incurred_in_the_treatment\": \"$500\",\n",
      "  \"chances_of_survival_of_the_patient\": \"N/A\"\n",
      "}\n"
     ]
    }
   ],
   "source": [
    "consultant_response = chat_llm(treatment_messages)\n",
    "print(consultant_response.content)"
   ]
  },
  {
   "cell_type": "code",
   "execution_count": null,
   "id": "cb842531",
   "metadata": {},
   "outputs": [],
   "source": []
  }
 ],
 "metadata": {
  "kernelspec": {
   "display_name": "Python 3 (ipykernel)",
   "language": "python",
   "name": "python3"
  },
  "language_info": {
   "codemirror_mode": {
    "name": "ipython",
    "version": 3
   },
   "file_extension": ".py",
   "mimetype": "text/x-python",
   "name": "python",
   "nbconvert_exporter": "python",
   "pygments_lexer": "ipython3",
   "version": "3.10.6"
  }
 },
 "nbformat": 4,
 "nbformat_minor": 5
}
