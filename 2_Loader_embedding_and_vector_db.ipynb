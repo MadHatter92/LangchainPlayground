{
 "cells": [
  {
   "cell_type": "markdown",
   "id": "6a19a97b",
   "metadata": {},
   "source": [
    "### Basic set up"
   ]
  },
  {
   "cell_type": "code",
   "execution_count": 1,
   "id": "4fe5a2db",
   "metadata": {},
   "outputs": [
    {
     "data": {
      "text/plain": [
       "'/home/pranshumaan'"
      ]
     },
     "execution_count": 1,
     "metadata": {},
     "output_type": "execute_result"
    }
   ],
   "source": [
    "pwd"
   ]
  },
  {
   "cell_type": "code",
   "execution_count": 2,
   "id": "d4564017",
   "metadata": {},
   "outputs": [
    {
     "name": "stdout",
     "output_type": "stream",
     "text": [
      "/media/pranshumaan/TOSHIBA EXT\n"
     ]
    }
   ],
   "source": [
    "cd /media/pranshumaan/TOSHIBA\\ EXT"
   ]
  },
  {
   "cell_type": "code",
   "execution_count": 3,
   "id": "f9f7e306",
   "metadata": {},
   "outputs": [
    {
     "name": "stdout",
     "output_type": "stream",
     "text": [
      "/media/pranshumaan/TOSHIBA EXT/Dev\n"
     ]
    }
   ],
   "source": [
    "cd Dev/"
   ]
  },
  {
   "cell_type": "code",
   "execution_count": 4,
   "id": "227626e7",
   "metadata": {},
   "outputs": [
    {
     "name": "stdout",
     "output_type": "stream",
     "text": [
      "\u001b[0m\u001b[01;34mdata\u001b[0m/  \u001b[01;34mDeep_Learning_Pytorch_Udemy_Tutorial\u001b[0m/  \u001b[01;34mLangchain\u001b[0m/\r\n"
     ]
    }
   ],
   "source": [
    "ls"
   ]
  },
  {
   "cell_type": "code",
   "execution_count": 5,
   "id": "c061fdb3",
   "metadata": {},
   "outputs": [
    {
     "name": "stdout",
     "output_type": "stream",
     "text": [
      "/media/pranshumaan/TOSHIBA EXT/Dev/Langchain\n"
     ]
    }
   ],
   "source": [
    "cd Langchain/"
   ]
  },
  {
   "cell_type": "code",
   "execution_count": 6,
   "id": "d6552cd6",
   "metadata": {},
   "outputs": [
    {
     "name": "stdout",
     "output_type": "stream",
     "text": [
      "1_LangChain_Quickstart.ipynb  open_ai_api_key.txt\r\n"
     ]
    }
   ],
   "source": [
    "ls"
   ]
  },
  {
   "cell_type": "code",
   "execution_count": 7,
   "id": "d939f2d3",
   "metadata": {},
   "outputs": [],
   "source": [
    "import os\n",
    "import textwrap\n",
    " \n",
    "import chromadb #vector database\n",
    "import langchain\n",
    "import openai\n",
    "from langchain.chains import RetrievalQA\n",
    "from langchain.chat_models import ChatOpenAI\n",
    "from langchain.document_loaders import WebBaseLoader\n",
    "from langchain.embeddings import OpenAIEmbeddings\n",
    "from langchain.indexes import VectorstoreIndexCreator\n",
    "from langchain.llms import OpenAI\n",
    "from langchain.prompts import PromptTemplate\n",
    "from langchain.vectorstores import Chroma"
   ]
  },
  {
   "cell_type": "code",
   "execution_count": 8,
   "id": "614ba47f",
   "metadata": {},
   "outputs": [
    {
     "name": "stdout",
     "output_type": "stream",
     "text": [
      "Python implementation: CPython\n",
      "Python version       : 3.10.6\n",
      "IPython version      : 8.12.0\n",
      "\n",
      "Compiler    : GCC 11.3.0\n",
      "OS          : Linux\n",
      "Release     : 6.2.6-76060206-generic\n",
      "Machine     : x86_64\n",
      "Processor   : x86_64\n",
      "CPU cores   : 12\n",
      "Architecture: 64bit\n",
      "\n",
      "chromadb : 0.3.25\n",
      "langchain: 0.0.139\n",
      "openai   : 0.27.4\n",
      "\n"
     ]
    }
   ],
   "source": [
    "%load_ext watermark\n",
    "%watermark --iversions -v -m"
   ]
  },
  {
   "cell_type": "code",
   "execution_count": 9,
   "id": "945ed0ac",
   "metadata": {},
   "outputs": [],
   "source": [
    "#Reduce output text width to fit in\n",
    "def print_response(response: str):\n",
    "    print(\"\\n\".join(textwrap.wrap(response, width=100)))"
   ]
  },
  {
   "cell_type": "code",
   "execution_count": 10,
   "id": "fda6f89f",
   "metadata": {},
   "outputs": [
    {
     "name": "stdout",
     "output_type": "stream",
     "text": [
      "Before diving into the Python interpreter, I pause here to remind you that this programming bootcamp\n",
      "is not meant to teach Python syntax (though you will lean that). The things you learn here are meant\n",
      "to help you understand, and ultimately do, computer programming more generally. Think of it this\n",
      "way: this bootcamp is meant to help you unleash the power of your computer on your biological\n",
      "problems. Python is just the language of instruction. That said, lets start talking about how Python\n",
      "works.Python s an interpreted language, which means that each line of code you write is translated,\n",
      "or interpreted, into a set of instructions that your machine can understand by the Python\n",
      "interpreter. This stands in contrast to compiled languages. For these languages (the dominant ones\n",
      "being Fortran, C, and C++), your entire code is translated into machine language before you ever run\n",
      "it. When you execute your program, it is already in machine language.So, whenever you want your\n",
      "Python code to run, you give it to the Python interpreter.There are many ways to launch the Python\n",
      "interpreter. One way is to type\n"
     ]
    }
   ],
   "source": [
    "print_response(\"Before diving into the Python interpreter, I pause here to remind you that this programming bootcamp is not meant to teach Python syntax (though you will lean that). The things you learn here are meant to help you understand, and ultimately do, computer programming more generally. Think of it this way: this bootcamp is meant to help you unleash the power of your computer on your biological problems. Python is just the language of instruction. That said, lets start talking about how Python works.Python s an interpreted language, which means that each line of code you write is translated, or interpreted, into a set of instructions that your machine can understand by the Python interpreter. This stands in contrast to compiled languages. For these languages (the dominant ones being Fortran, C, and C++), your entire code is translated into machine language before you ever run it. When you execute your program, it is already in machine language.So, whenever you want your Python code to run, you give it to the Python interpreter.There are many ways to launch the Python interpreter. One way is to type\")"
   ]
  },
  {
   "cell_type": "code",
   "execution_count": 11,
   "id": "7509303d",
   "metadata": {},
   "outputs": [],
   "source": [
    "with open('open_ai_api_key.txt', 'r') as file:\n",
    "    key = file.read().rstrip()"
   ]
  },
  {
   "cell_type": "code",
   "execution_count": 12,
   "id": "4d0c9c85",
   "metadata": {},
   "outputs": [],
   "source": [
    "os.environ[\"OPENAI_API_KEY\"] = key"
   ]
  },
  {
   "cell_type": "code",
   "execution_count": 13,
   "id": "328d591b",
   "metadata": {},
   "outputs": [],
   "source": [
    "# Createa a model object\n",
    "model = OpenAI(temperature=0) #Default model is davinci003, 0 temperature means minimum randomness"
   ]
  },
  {
   "cell_type": "code",
   "execution_count": 14,
   "id": "0c2958af",
   "metadata": {},
   "outputs": [
    {
     "name": "stdout",
     "output_type": "stream",
     "text": [
      "  At Awesome Spreadsheets Inc., we take the safety of our customers and their computers very\n",
      "seriously. We are aware of the reports of computers catching fire due to our spreadsheets and are\n",
      "currently investigating the matter.  At this time, we have not been able to identify any specific\n",
      "cause for the fires. We are working with our customers to ensure that their computers are safe and\n",
      "that our spreadsheets are not causing any further issues.  We are committed to providing our\n",
      "customers with the best possible experience and are taking all necessary steps to ensure that our\n",
      "spreadsheets are safe and secure. We are also working with our customers to provide them with the\n",
      "best possible support and assistance.  We apologize for any inconvenience this may have caused and\n",
      "thank our customers for their patience and understanding.\n"
     ]
    }
   ],
   "source": [
    "print_response(model(\"You are the CEO of Awesome Spreadsheets Inc. Your spreadsheets are causing computers to catch fire. Draft a response for the Press in such a way that you are completely off the hook.\"))"
   ]
  },
  {
   "cell_type": "markdown",
   "id": "5bac652d",
   "metadata": {},
   "source": [
    "### Q&A Over a Document"
   ]
  },
  {
   "cell_type": "markdown",
   "id": "890ed514",
   "metadata": {},
   "source": [
    "#### Reading from a URL"
   ]
  },
  {
   "cell_type": "code",
   "execution_count": 15,
   "id": "42cbb4eb",
   "metadata": {},
   "outputs": [],
   "source": [
    "loader = WebBaseLoader(\n",
    "    \"https://blog.twitter.com/engineering/en_us/topics/open-source/2023/twitter-recommendation-algorithm\"\n",
    ")"
   ]
  },
  {
   "cell_type": "code",
   "execution_count": 16,
   "id": "1b7f7aef",
   "metadata": {},
   "outputs": [
    {
     "data": {
      "text/plain": [
       "<langchain.document_loaders.web_base.WebBaseLoader at 0x7fa97907da50>"
      ]
     },
     "execution_count": 16,
     "metadata": {},
     "output_type": "execute_result"
    }
   ],
   "source": [
    "loader"
   ]
  },
  {
   "cell_type": "code",
   "execution_count": 17,
   "id": "3f7a1bd6",
   "metadata": {},
   "outputs": [
    {
     "data": {
      "text/plain": [
       "['__abstractmethods__',\n",
       " '__annotations__',\n",
       " '__class__',\n",
       " '__delattr__',\n",
       " '__dict__',\n",
       " '__dir__',\n",
       " '__doc__',\n",
       " '__eq__',\n",
       " '__format__',\n",
       " '__ge__',\n",
       " '__getattribute__',\n",
       " '__gt__',\n",
       " '__hash__',\n",
       " '__init__',\n",
       " '__init_subclass__',\n",
       " '__le__',\n",
       " '__lt__',\n",
       " '__module__',\n",
       " '__ne__',\n",
       " '__new__',\n",
       " '__reduce__',\n",
       " '__reduce_ex__',\n",
       " '__repr__',\n",
       " '__setattr__',\n",
       " '__sizeof__',\n",
       " '__slots__',\n",
       " '__str__',\n",
       " '__subclasshook__',\n",
       " '__weakref__',\n",
       " '_abc_impl',\n",
       " '_check_parser',\n",
       " '_fetch',\n",
       " '_fetch_with_rate_limit',\n",
       " '_scrape',\n",
       " 'aload',\n",
       " 'default_parser',\n",
       " 'fetch_all',\n",
       " 'load',\n",
       " 'load_and_split',\n",
       " 'requests_per_second',\n",
       " 'scrape',\n",
       " 'scrape_all',\n",
       " 'session',\n",
       " 'web_path',\n",
       " 'web_paths']"
      ]
     },
     "execution_count": 17,
     "metadata": {},
     "output_type": "execute_result"
    }
   ],
   "source": [
    "dir(loader)"
   ]
  },
  {
   "cell_type": "code",
   "execution_count": 18,
   "id": "06036317",
   "metadata": {},
   "outputs": [
    {
     "data": {
      "text/plain": [
       "1"
      ]
     },
     "execution_count": 18,
     "metadata": {},
     "output_type": "execute_result"
    }
   ],
   "source": [
    "documents = loader.load()\n",
    "len(documents)"
   ]
  },
  {
   "cell_type": "code",
   "execution_count": 19,
   "id": "ddac5eeb",
   "metadata": {},
   "outputs": [
    {
     "data": {
      "text/plain": [
       "list"
      ]
     },
     "execution_count": 19,
     "metadata": {},
     "output_type": "execute_result"
    }
   ],
   "source": [
    "type(documents)"
   ]
  },
  {
   "cell_type": "code",
   "execution_count": 20,
   "id": "f0fbb9ba",
   "metadata": {},
   "outputs": [
    {
     "data": {
      "text/plain": [
       "langchain.schema.Document"
      ]
     },
     "execution_count": 20,
     "metadata": {},
     "output_type": "execute_result"
    }
   ],
   "source": [
    "document = documents[0]\n",
    "type(document)"
   ]
  },
  {
   "cell_type": "code",
   "execution_count": 21,
   "id": "1f1cd16c",
   "metadata": {},
   "outputs": [
    {
     "data": {
      "text/plain": [
       "dict_keys(['page_content', 'metadata'])"
      ]
     },
     "execution_count": 21,
     "metadata": {},
     "output_type": "execute_result"
    }
   ],
   "source": [
    "document.__dict__.keys()"
   ]
  },
  {
   "cell_type": "code",
   "execution_count": 22,
   "id": "59e190a6",
   "metadata": {},
   "outputs": [
    {
     "data": {
      "text/plain": [
       "{'source': 'https://blog.twitter.com/engineering/en_us/topics/open-source/2023/twitter-recommendation-algorithm'}"
      ]
     },
     "execution_count": 22,
     "metadata": {},
     "output_type": "execute_result"
    }
   ],
   "source": [
    "document.metadata"
   ]
  },
  {
   "cell_type": "code",
   "execution_count": 23,
   "id": "f00cc3c0",
   "metadata": {},
   "outputs": [
    {
     "data": {
      "text/plain": [
       "12422"
      ]
     },
     "execution_count": 23,
     "metadata": {},
     "output_type": "execute_result"
    }
   ],
   "source": [
    "len(document.page_content)"
   ]
  },
  {
   "cell_type": "markdown",
   "id": "38c8faf0",
   "metadata": {},
   "source": [
    "#### Vectorization and embedding generation"
   ]
  },
  {
   "cell_type": "code",
   "execution_count": 24,
   "id": "a3d2b31a",
   "metadata": {},
   "outputs": [],
   "source": [
    "index = VectorstoreIndexCreator().from_loaders([loader])"
   ]
  },
  {
   "cell_type": "markdown",
   "id": "deb8c1e5",
   "metadata": {},
   "source": [
    "#### Querying the document"
   ]
  },
  {
   "cell_type": "code",
   "execution_count": 25,
   "id": "68ba157c",
   "metadata": {},
   "outputs": [
    {
     "name": "stdout",
     "output_type": "stream",
     "text": [
      " The Twitter recommendation algorithm is like a web of interconnected services and jobs, like\n",
      "Spiderman's web. The algorithm uses models and features to extract information from Tweets, users,\n",
      "and engagement data, like Spiderman's spider-sense. The algorithm then generates candidate Tweets\n",
      "and ranks them using a logistic regression model, like Spiderman's ability to sense danger. The\n",
      "algorithm also uses heuristics and filters to make sure the Tweets are relevant, like Spiderman's\n",
      "ability to dodge danger. Finally, the algorithm uses a service called Home Mixer to construct and\n",
      "serve the For You timeline, like Spiderman's web-slinging ability to get from place to place.\n"
     ]
    }
   ],
   "source": [
    "query = \"You're Spiderman. Explain the Twitter recommendation algorithm in 5 sentences using analogies from comic books.\"\n",
    "print_response(index.query(query))"
   ]
  },
  {
   "cell_type": "markdown",
   "id": "7f6e3902",
   "metadata": {},
   "source": [
    "#### Creating promps dynamically"
   ]
  },
  {
   "cell_type": "code",
   "execution_count": 26,
   "id": "ce269120",
   "metadata": {},
   "outputs": [
    {
     "name": "stdout",
     "output_type": "stream",
     "text": [
      "You're Dwight K. Schrute from the Office.\n",
      " \n",
      "Paper sales are declining 10% year over year.\n",
      " \n",
      "Answer with analogies from the Office to the question and the way Dwight speaks.\n",
      " \n",
      "Question: How to sell paper?\n",
      "Answer:\n"
     ]
    }
   ],
   "source": [
    "template = \"\"\"You're Dwight K. Schrute from the Office.\n",
    " \n",
    "{context}\n",
    " \n",
    "Answer with analogies from the Office to the question and the way Dwight speaks.\n",
    " \n",
    "Question: {question}\n",
    "Answer:\"\"\"\n",
    "\n",
    "prompt = PromptTemplate(template=template, input_variables=[\"context\", \"question\"])\n",
    "print(\n",
    "    prompt.format(\n",
    "        context=\"Paper sales are declining 10% year over year.\",\n",
    "        question=\"How to sell paper?\",\n",
    "    )\n",
    ")"
   ]
  },
  {
   "cell_type": "code",
   "execution_count": 27,
   "id": "15547919",
   "metadata": {},
   "outputs": [
    {
     "data": {
      "text/plain": [
       "'/media/pranshumaan/TOSHIBA EXT/Dev/Langchain'"
      ]
     },
     "execution_count": 27,
     "metadata": {},
     "output_type": "execute_result"
    }
   ],
   "source": [
    "pwd"
   ]
  },
  {
   "cell_type": "code",
   "execution_count": 28,
   "id": "9b2b583c",
   "metadata": {},
   "outputs": [
    {
     "name": "stdout",
     "output_type": "stream",
     "text": [
      "/bin/bash: line 1: gdown: command not found\n",
      "/bin/bash: line 1: gdown: command not found\n"
     ]
    }
   ],
   "source": [
    "!gdown 1eetuan04uj9-QKu_Vok2mbSK23G0H7yN\n",
    "!gdown 1MVIhlCJS5RjVDy_s93Jb4vkHt6jAmgaa"
   ]
  },
  {
   "cell_type": "markdown",
   "id": "ec474539",
   "metadata": {},
   "source": [
    "### Loaders"
   ]
  },
  {
   "cell_type": "code",
   "execution_count": 30,
   "id": "6e5ba911",
   "metadata": {},
   "outputs": [],
   "source": [
    "import os\n",
    "import textwrap\n",
    "\n",
    "import chromadb\n",
    "import langchain\n",
    "import openai\n",
    "from langchain.chains import RetrievalQA\n",
    "from langchain.chat_models import ChatOpenAI\n",
    "from langchain.document_loaders import TextLoader, UnstructuredPDFLoader, YoutubeLoader\n",
    "from langchain.embeddings import HuggingFaceEmbeddings, OpenAIEmbeddings\n",
    "from langchain.indexes import VectorstoreIndexCreator\n",
    "from langchain.llms import OpenAI\n",
    "from langchain.text_splitter import RecursiveCharacterTextSplitter\n",
    "from langchain.vectorstores import Chroma\n"
   ]
  },
  {
   "cell_type": "markdown",
   "id": "37d85cdd",
   "metadata": {},
   "source": [
    "#### Text Loader"
   ]
  },
  {
   "cell_type": "code",
   "execution_count": 31,
   "id": "8deeb239",
   "metadata": {},
   "outputs": [],
   "source": [
    "txt_loader = TextLoader(\"./the-need-to-read.txt\", encoding=\"utf8\")"
   ]
  },
  {
   "cell_type": "code",
   "execution_count": 32,
   "id": "02761bb0",
   "metadata": {},
   "outputs": [
    {
     "data": {
      "text/plain": [
       "<langchain.document_loaders.text.TextLoader at 0x7fa973ffee30>"
      ]
     },
     "execution_count": 32,
     "metadata": {},
     "output_type": "execute_result"
    }
   ],
   "source": [
    "txt_loader"
   ]
  },
  {
   "cell_type": "code",
   "execution_count": 41,
   "id": "ce1aa279",
   "metadata": {},
   "outputs": [],
   "source": [
    "# dir(txt_loader)"
   ]
  },
  {
   "cell_type": "code",
   "execution_count": 34,
   "id": "425007e5",
   "metadata": {},
   "outputs": [],
   "source": [
    "index = VectorstoreIndexCreator().from_loaders([txt_loader])"
   ]
  },
  {
   "cell_type": "code",
   "execution_count": 35,
   "id": "22136972",
   "metadata": {},
   "outputs": [
    {
     "data": {
      "text/plain": [
       "VectorStoreIndexWrapper(vectorstore=<langchain.vectorstores.chroma.Chroma object at 0x7fa9790e9660>)"
      ]
     },
     "execution_count": 35,
     "metadata": {},
     "output_type": "execute_result"
    }
   ],
   "source": [
    "index"
   ]
  },
  {
   "cell_type": "code",
   "execution_count": 39,
   "id": "9a96ac73",
   "metadata": {},
   "outputs": [],
   "source": [
    "# dir(index)"
   ]
  },
  {
   "cell_type": "code",
   "execution_count": 37,
   "id": "6634b69b",
   "metadata": {},
   "outputs": [
    {
     "name": "stderr",
     "output_type": "stream",
     "text": [
      "Number of requested results 4 is greater than number of elements in index 3, updating n_results = 3\n"
     ]
    },
    {
     "data": {
      "text/plain": [
       "{'question': 'Why someone in todays world would read? Answer in 3 sentences.',\n",
       " 'answer': ' Reading helps to develop critical thinking skills, encourages creativity, and allows for the discovery of new ideas. It also helps to develop writing skills, which are essential for problem solving. ',\n",
       " 'sources': '[1] ./the-need-to-read.txt [2] ./the-need-to-read.txt'}"
      ]
     },
     "execution_count": 37,
     "metadata": {},
     "output_type": "execute_result"
    }
   ],
   "source": [
    "query = \"Why someone in todays world would read? Answer in 3 sentences.\"\n",
    "result = index.query_with_sources(query)\n",
    "result"
   ]
  },
  {
   "cell_type": "code",
   "execution_count": 38,
   "id": "75ab6458",
   "metadata": {},
   "outputs": [
    {
     "name": "stdout",
     "output_type": "stream",
     "text": [
      " Reading helps to develop critical thinking skills, encourages creativity, and allows for the\n",
      "discovery of new ideas. It also helps to develop writing skills, which are essential for problem\n",
      "solving.\n"
     ]
    }
   ],
   "source": [
    "print_response(result[\"answer\"])"
   ]
  },
  {
   "cell_type": "markdown",
   "id": "55b2e3cd",
   "metadata": {},
   "source": [
    "#### Youtube Loader"
   ]
  },
  {
   "cell_type": "code",
   "execution_count": 43,
   "id": "a209a8d5",
   "metadata": {},
   "outputs": [],
   "source": [
    "yt_loader = YoutubeLoader.from_youtube_url(\n",
    "    \"https://www.youtube.com/watch?v=n2uY3-2Goek\", add_video_info=True\n",
    ")"
   ]
  },
  {
   "cell_type": "code",
   "execution_count": 46,
   "id": "97773b92",
   "metadata": {},
   "outputs": [
    {
     "data": {
      "text/plain": [
       "[Document(page_content=\"you get more out of reading one book that's great five times than out of reading five mediocre books if your behavior doesn't change as a result of reading a book and it means you learn nothing which means it was a waste of time and many people who read books are just wasting their time because their behavior doesn't change and so I consolidate once I find something that's good I plug everything I possibly can into it and suck the juice out of it so that I can change my behavior as a result which comes from the Frameworks and how I think about it so I read one thing that's very good many times rather than trying to brag about the fact that I read a book a week because I'm like what was the book last week not that good that it wasn't worth rereading\", metadata={'source': 'n2uY3-2Goek', 'title': 'How to get the most out of reading', 'description': None, 'view_count': 31517, 'thumbnail_url': 'https://i.ytimg.com/vi/n2uY3-2Goek/hq720_2.jpg?sqp=-oaymwEoCIAKENAF8quKqQMcGADwAQH4Ac4FgAKACooCDAgAEAEYQCBCKHIwDw==&rs=AOn4CLBosqfyEb4QbqVlNwc8pUO7KwdVFw', 'publish_date': datetime.datetime(2022, 11, 15, 0, 0), 'length': 33, 'author': 'Alex Hormozi'})]"
      ]
     },
     "execution_count": 46,
     "metadata": {},
     "output_type": "execute_result"
    }
   ],
   "source": [
    "yt_documents = yt_loader.load()\n",
    "yt_documents"
   ]
  },
  {
   "cell_type": "code",
   "execution_count": 47,
   "id": "d0733ef7",
   "metadata": {},
   "outputs": [
    {
     "data": {
      "text/plain": [
       "\"you get more out of reading one book that's great five times than out of reading five mediocre books if your behavior doesn't change as a result of reading a book and it means you learn nothing which means it was a waste of time and many people who read books are just wasting their time because their behavior doesn't change and so I consolidate once I find something that's good I plug everything I possibly can into it and suck the juice out of it so that I can change my behavior as a result which comes from the Frameworks and how I think about it so I read one thing that's very good many times rather than trying to brag about the fact that I read a book a week because I'm like what was the book last week not that good that it wasn't worth rereading\""
      ]
     },
     "execution_count": 47,
     "metadata": {},
     "output_type": "execute_result"
    }
   ],
   "source": [
    "document = yt_documents[0]\n",
    "document.page_content"
   ]
  },
  {
   "cell_type": "markdown",
   "id": "01522c1a",
   "metadata": {},
   "source": [
    "#### PDF Loader"
   ]
  },
  {
   "cell_type": "code",
   "execution_count": 51,
   "id": "f25cdc45",
   "metadata": {},
   "outputs": [
    {
     "name": "stderr",
     "output_type": "stream",
     "text": [
      "[nltk_data] Downloading package punkt to\n",
      "[nltk_data]     /home/pranshumaan/nltk_data...\n",
      "[nltk_data]   Unzipping tokenizers/punkt.zip.\n",
      "[nltk_data] Downloading package averaged_perceptron_tagger to\n",
      "[nltk_data]     /home/pranshumaan/nltk_data...\n",
      "[nltk_data]   Unzipping taggers/averaged_perceptron_tagger.zip.\n"
     ]
    }
   ],
   "source": [
    "pdf_loader = UnstructuredPDFLoader(\"./Andrej_Karpathy_Resume.pdf\")\n",
    "pdf_pages = pdf_loader.load_and_split()"
   ]
  },
  {
   "cell_type": "code",
   "execution_count": 56,
   "id": "2ec81b64",
   "metadata": {},
   "outputs": [
    {
     "data": {
      "text/plain": [
       "'Andrej Karpathy\\n\\nandrej.karpathy@gmail.com http://cs.stanford.edu/~karpathy/\\n\\nEDUCATION\\n\\nStanford University (PhD), 2011 –\\n\\nComputer Science, studying Machine Learning and Computer Vision\\n\\nUniversity of British Columbia (Master’s degree), 2009 - 2011\\n\\nComputer Science graduate studies in Machine Learning, Vision, Motor Control - Average course grade: 94.4%\\n\\nUniversity of Toronto (Bachelor’s degree), 2005 - 2009\\n\\nDouble major in Computer Science and Physics, minor in Mathematics - Cumulative GPA: 3.74\\n\\nWORK EXPERIENCE\\n\\nGoogle Research (internship), June 2011 – September 2011\\n\\nDeveloped learning algorithms for video classification tasks - Worked on a large-scale learning framework for video analysis\\n\\nTeaching Assistant\\n\\n- -\\n\\n2011: Assisted with online offering of the Machine Learning class at Stanford 2011: Graduate Probabilistic Machine Learning class 2009-2010: Taught tutorial sections for a first year Discrete Mathematics class on four consecutive semesters\\n\\nCOURSE WORK\\n\\n\\n\\nStanford: Machine Learning, Computer Vision, Convex Optimization, Probabilistic Graphical Models (I and II)\\n\\nUniversity of British Columbia: Machine Learning (I and II), Computer Vision (I\\n\\nand II)\\n\\nHACKING SKILLS\\n\\n\\n\\nPython, C++, MATLAB, Java, Objective C, Javascript/HTML/CSS, PHP, SQL\\n\\nINTERESTS Hobbies include Ping Pong, Ice skating, Scuba diving, PC strategy/fps games, Programming, and solving the Rubik’s cube in less than 20 seconds'"
      ]
     },
     "execution_count": 56,
     "metadata": {},
     "output_type": "execute_result"
    }
   ],
   "source": [
    "pdf_pages[0].page_content"
   ]
  },
  {
   "cell_type": "code",
   "execution_count": 61,
   "id": "f520efe9",
   "metadata": {},
   "outputs": [
    {
     "data": {
      "text/plain": [
       "langchain.schema.Document"
      ]
     },
     "execution_count": 61,
     "metadata": {},
     "output_type": "execute_result"
    }
   ],
   "source": [
    "type(pdf_pages[0])"
   ]
  },
  {
   "cell_type": "code",
   "execution_count": 63,
   "id": "90180d3a",
   "metadata": {},
   "outputs": [],
   "source": [
    "# dir(pdf_pages[0])"
   ]
  },
  {
   "cell_type": "markdown",
   "id": "20cc6cff",
   "metadata": {},
   "source": [
    "#### Text Splitters\n",
    "To overcome the token limits"
   ]
  },
  {
   "cell_type": "code",
   "execution_count": 66,
   "id": "2971224f",
   "metadata": {},
   "outputs": [
    {
     "data": {
      "text/plain": [
       "2"
      ]
     },
     "execution_count": 66,
     "metadata": {},
     "output_type": "execute_result"
    }
   ],
   "source": [
    "text_splitter = RecursiveCharacterTextSplitter(chunk_size=1024, chunk_overlap=64)\n",
    "texts = text_splitter.split_documents(pdf_pages)\n",
    "len(texts)"
   ]
  },
  {
   "cell_type": "code",
   "execution_count": 67,
   "id": "b15bbaf1",
   "metadata": {},
   "outputs": [
    {
     "data": {
      "text/plain": [
       "Document(page_content='Andrej Karpathy\\n\\nandrej.karpathy@gmail.com http://cs.stanford.edu/~karpathy/\\n\\nEDUCATION\\n\\nStanford University (PhD), 2011 –\\n\\nComputer Science, studying Machine Learning and Computer Vision\\n\\nUniversity of British Columbia (Master’s degree), 2009 - 2011\\n\\nComputer Science graduate studies in Machine Learning, Vision, Motor Control - Average course grade: 94.4%\\n\\nUniversity of Toronto (Bachelor’s degree), 2005 - 2009\\n\\nDouble major in Computer Science and Physics, minor in Mathematics - Cumulative GPA: 3.74\\n\\nWORK EXPERIENCE\\n\\nGoogle Research (internship), June 2011 – September 2011\\n\\nDeveloped learning algorithms for video classification tasks - Worked on a large-scale learning framework for video analysis\\n\\nTeaching Assistant\\n\\n- -\\n\\n2011: Assisted with online offering of the Machine Learning class at Stanford 2011: Graduate Probabilistic Machine Learning class 2009-2010: Taught tutorial sections for a first year Discrete Mathematics class on four consecutive semesters\\n\\nCOURSE WORK', metadata={'source': './Andrej_Karpathy_Resume.pdf'})"
      ]
     },
     "execution_count": 67,
     "metadata": {},
     "output_type": "execute_result"
    }
   ],
   "source": [
    "texts[0]"
   ]
  },
  {
   "cell_type": "code",
   "execution_count": 68,
   "id": "7727c463",
   "metadata": {},
   "outputs": [
    {
     "data": {
      "text/plain": [
       "Document(page_content='COURSE WORK\\n\\n\\n\\nStanford: Machine Learning, Computer Vision, Convex Optimization, Probabilistic Graphical Models (I and II)\\n\\nUniversity of British Columbia: Machine Learning (I and II), Computer Vision (I\\n\\nand II)\\n\\nHACKING SKILLS\\n\\n\\n\\nPython, C++, MATLAB, Java, Objective C, Javascript/HTML/CSS, PHP, SQL\\n\\nINTERESTS Hobbies include Ping Pong, Ice skating, Scuba diving, PC strategy/fps games, Programming, and solving the Rubik’s cube in less than 20 seconds', metadata={'source': './Andrej_Karpathy_Resume.pdf'})"
      ]
     },
     "execution_count": 68,
     "metadata": {},
     "output_type": "execute_result"
    }
   ],
   "source": [
    "texts[1]"
   ]
  },
  {
   "cell_type": "code",
   "execution_count": 70,
   "id": "dec645bc",
   "metadata": {},
   "outputs": [
    {
     "data": {
      "text/plain": [
       "(985, 455)"
      ]
     },
     "execution_count": 70,
     "metadata": {},
     "output_type": "execute_result"
    }
   ],
   "source": [
    "len(texts[0].page_content), len(texts[1].page_content)"
   ]
  },
  {
   "cell_type": "markdown",
   "id": "592ec657",
   "metadata": {},
   "source": [
    "#### Embeddings"
   ]
  },
  {
   "cell_type": "markdown",
   "id": "731dd1d9",
   "metadata": {},
   "source": [
    "Downloading the sentence transformer model to use"
   ]
  },
  {
   "cell_type": "code",
   "execution_count": 72,
   "id": "cdd764a9",
   "metadata": {},
   "outputs": [
    {
     "data": {
      "application/vnd.jupyter.widget-view+json": {
       "model_id": "801d9bbb0b184156b15b69087f9faacd",
       "version_major": 2,
       "version_minor": 0
      },
      "text/plain": [
       "Downloading (…)a8e1d/.gitattributes:   0%|          | 0.00/1.18k [00:00<?, ?B/s]"
      ]
     },
     "metadata": {},
     "output_type": "display_data"
    },
    {
     "data": {
      "application/vnd.jupyter.widget-view+json": {
       "model_id": "05117b9a45af4495b82b5a1fe463968f",
       "version_major": 2,
       "version_minor": 0
      },
      "text/plain": [
       "Downloading (…)_Pooling/config.json:   0%|          | 0.00/190 [00:00<?, ?B/s]"
      ]
     },
     "metadata": {},
     "output_type": "display_data"
    },
    {
     "data": {
      "application/vnd.jupyter.widget-view+json": {
       "model_id": "927842a812aa40509e49c8715b77b8df",
       "version_major": 2,
       "version_minor": 0
      },
      "text/plain": [
       "Downloading (…)b20bca8e1d/README.md:   0%|          | 0.00/10.6k [00:00<?, ?B/s]"
      ]
     },
     "metadata": {},
     "output_type": "display_data"
    },
    {
     "data": {
      "application/vnd.jupyter.widget-view+json": {
       "model_id": "4eed3148ae0b4bebba1502b0a0d042bf",
       "version_major": 2,
       "version_minor": 0
      },
      "text/plain": [
       "Downloading (…)0bca8e1d/config.json:   0%|          | 0.00/571 [00:00<?, ?B/s]"
      ]
     },
     "metadata": {},
     "output_type": "display_data"
    },
    {
     "data": {
      "application/vnd.jupyter.widget-view+json": {
       "model_id": "c9cc75ba48c946e582465a6b49dc3999",
       "version_major": 2,
       "version_minor": 0
      },
      "text/plain": [
       "Downloading (…)ce_transformers.json:   0%|          | 0.00/116 [00:00<?, ?B/s]"
      ]
     },
     "metadata": {},
     "output_type": "display_data"
    },
    {
     "data": {
      "application/vnd.jupyter.widget-view+json": {
       "model_id": "d34b2c02f9f0475796f104d1e9939d3a",
       "version_major": 2,
       "version_minor": 0
      },
      "text/plain": [
       "Downloading (…)e1d/data_config.json:   0%|          | 0.00/39.3k [00:00<?, ?B/s]"
      ]
     },
     "metadata": {},
     "output_type": "display_data"
    },
    {
     "data": {
      "application/vnd.jupyter.widget-view+json": {
       "model_id": "6e7b2b1250ac4d43b7e338c86f862dfb",
       "version_major": 2,
       "version_minor": 0
      },
      "text/plain": [
       "Downloading pytorch_model.bin:   0%|          | 0.00/438M [00:00<?, ?B/s]"
      ]
     },
     "metadata": {},
     "output_type": "display_data"
    },
    {
     "data": {
      "application/vnd.jupyter.widget-view+json": {
       "model_id": "bef8e10b1ed84e0cb8bb3dafb8f2fc99",
       "version_major": 2,
       "version_minor": 0
      },
      "text/plain": [
       "Downloading (…)nce_bert_config.json:   0%|          | 0.00/53.0 [00:00<?, ?B/s]"
      ]
     },
     "metadata": {},
     "output_type": "display_data"
    },
    {
     "data": {
      "application/vnd.jupyter.widget-view+json": {
       "model_id": "d3200824f0b24366986e2b3ecf7a1c3b",
       "version_major": 2,
       "version_minor": 0
      },
      "text/plain": [
       "Downloading (…)cial_tokens_map.json:   0%|          | 0.00/239 [00:00<?, ?B/s]"
      ]
     },
     "metadata": {},
     "output_type": "display_data"
    },
    {
     "data": {
      "application/vnd.jupyter.widget-view+json": {
       "model_id": "44844b22751f4dd4a5816e0a9b0d0f0b",
       "version_major": 2,
       "version_minor": 0
      },
      "text/plain": [
       "Downloading (…)a8e1d/tokenizer.json:   0%|          | 0.00/466k [00:00<?, ?B/s]"
      ]
     },
     "metadata": {},
     "output_type": "display_data"
    },
    {
     "data": {
      "application/vnd.jupyter.widget-view+json": {
       "model_id": "c3133c5f78e943d0bc3ab0058695959d",
       "version_major": 2,
       "version_minor": 0
      },
      "text/plain": [
       "Downloading (…)okenizer_config.json:   0%|          | 0.00/363 [00:00<?, ?B/s]"
      ]
     },
     "metadata": {},
     "output_type": "display_data"
    },
    {
     "data": {
      "application/vnd.jupyter.widget-view+json": {
       "model_id": "f0cf0ee79256494097c2da004d007797",
       "version_major": 2,
       "version_minor": 0
      },
      "text/plain": [
       "Downloading (…)8e1d/train_script.py:   0%|          | 0.00/13.1k [00:00<?, ?B/s]"
      ]
     },
     "metadata": {},
     "output_type": "display_data"
    },
    {
     "data": {
      "application/vnd.jupyter.widget-view+json": {
       "model_id": "a5380455525d462fb7513d11e1311e39",
       "version_major": 2,
       "version_minor": 0
      },
      "text/plain": [
       "Downloading (…)b20bca8e1d/vocab.txt:   0%|          | 0.00/232k [00:00<?, ?B/s]"
      ]
     },
     "metadata": {},
     "output_type": "display_data"
    },
    {
     "data": {
      "application/vnd.jupyter.widget-view+json": {
       "model_id": "f39a4d66a1fe41faa73a71ff55c338f5",
       "version_major": 2,
       "version_minor": 0
      },
      "text/plain": [
       "Downloading (…)bca8e1d/modules.json:   0%|          | 0.00/349 [00:00<?, ?B/s]"
      ]
     },
     "metadata": {},
     "output_type": "display_data"
    }
   ],
   "source": [
    "MODEL_NAME = \"sentence-transformers/all-mpnet-base-v2\"\n",
    "hf_embeddings = HuggingFaceEmbeddings(model_name=MODEL_NAME)"
   ]
  },
  {
   "cell_type": "code",
   "execution_count": 73,
   "id": "bf01cfde",
   "metadata": {},
   "outputs": [
    {
     "data": {
      "text/plain": [
       "'Andrej Karpathy\\n\\nandrej.karpathy@gmail.com http://cs.stanford.edu/~karpathy/\\n\\nEDUCATION\\n\\nStanford University (PhD), 2011 –\\n\\nComputer Science, studying Machine Learning and Computer Vision\\n\\nUniversity of British Columbia (Master’s degree), 2009 - 2011\\n\\nComputer Science graduate studies in Machine Learning, Vision, Motor Control - Average course grade: 94.4%\\n\\nUniversity of Toronto (Bachelor’s degree), 2005 - 2009\\n\\nDouble major in Computer Science and Physics, minor in Mathematics - Cumulative GPA: 3.74\\n\\nWORK EXPERIENCE\\n\\nGoogle Research (internship), June 2011 – September 2011\\n\\nDeveloped learning algorithms for video classification tasks - Worked on a large-scale learning framework for video analysis\\n\\nTeaching Assistant\\n\\n- -\\n\\n2011: Assisted with online offering of the Machine Learning class at Stanford 2011: Graduate Probabilistic Machine Learning class 2009-2010: Taught tutorial sections for a first year Discrete Mathematics class on four consecutive semesters\\n\\nCOURSE WORK'"
      ]
     },
     "execution_count": 73,
     "metadata": {},
     "output_type": "execute_result"
    }
   ],
   "source": [
    "text = texts[0].page_content\n",
    "text"
   ]
  },
  {
   "cell_type": "code",
   "execution_count": 74,
   "id": "8a436699",
   "metadata": {},
   "outputs": [
    {
     "data": {
      "text/plain": [
       "768"
      ]
     },
     "execution_count": 74,
     "metadata": {},
     "output_type": "execute_result"
    }
   ],
   "source": [
    "hf_embedding = hf_embeddings.embed_documents([text])\n",
    "len(hf_embedding[0])"
   ]
  },
  {
   "cell_type": "code",
   "execution_count": 80,
   "id": "c740b240",
   "metadata": {},
   "outputs": [
    {
     "data": {
      "text/plain": [
       "list"
      ]
     },
     "execution_count": 80,
     "metadata": {},
     "output_type": "execute_result"
    }
   ],
   "source": [
    "type(hf_embedding[0])"
   ]
  },
  {
   "cell_type": "code",
   "execution_count": 81,
   "id": "e154a8a7",
   "metadata": {},
   "outputs": [
    {
     "data": {
      "text/plain": [
       "[0.0018453436205163598,\n",
       " 0.06233089044690132,\n",
       " -0.04533299431204796,\n",
       " -0.027133740484714508,\n",
       " 0.010153498500585556,\n",
       " -0.013238425366580486,\n",
       " 0.05982324481010437,\n",
       " -0.025168005377054214,\n",
       " -0.03709842264652252,\n",
       " -0.034538332372903824]"
      ]
     },
     "execution_count": 81,
     "metadata": {},
     "output_type": "execute_result"
    }
   ],
   "source": [
    "hf_embedding[0][:10]"
   ]
  },
  {
   "cell_type": "code",
   "execution_count": 82,
   "id": "e0b6fbc2",
   "metadata": {},
   "outputs": [
    {
     "data": {
      "text/plain": [
       "1536"
      ]
     },
     "execution_count": 82,
     "metadata": {},
     "output_type": "execute_result"
    }
   ],
   "source": [
    "embeddings = OpenAIEmbeddings()\n",
    "openai_embedding = embeddings.embed_documents([text])\n",
    "len(openai_embedding[0])"
   ]
  },
  {
   "cell_type": "code",
   "execution_count": 83,
   "id": "9b141591",
   "metadata": {},
   "outputs": [
    {
     "data": {
      "text/plain": [
       "[-0.0035485531035580205,\n",
       " 0.013951345846037131,\n",
       " 0.02112940819676652,\n",
       " -0.036430015031564046,\n",
       " 0.012905669930165519,\n",
       " 0.02726853926950074,\n",
       " -0.007184808385589652,\n",
       " 0.018241991655223076,\n",
       " -0.03038532937819606,\n",
       " -0.020090476918771354]"
      ]
     },
     "execution_count": 83,
     "metadata": {},
     "output_type": "execute_result"
    }
   ],
   "source": [
    "openai_embedding[0][:10]"
   ]
  },
  {
   "cell_type": "markdown",
   "id": "95bfbdc2",
   "metadata": {},
   "source": [
    "#### Vectorstores"
   ]
  },
  {
   "cell_type": "code",
   "execution_count": 84,
   "id": "1310d2b5",
   "metadata": {},
   "outputs": [],
   "source": [
    "db = Chroma.from_documents(texts, embeddings)"
   ]
  },
  {
   "cell_type": "code",
   "execution_count": 85,
   "id": "330ee464",
   "metadata": {},
   "outputs": [
    {
     "data": {
      "text/plain": [
       "[(Document(page_content='Andrej Karpathy\\n\\nandrej.karpathy@gmail.com http://cs.stanford.edu/~karpathy/\\n\\nEDUCATION\\n\\nStanford University (PhD), 2011 –\\n\\nComputer Science, studying Machine Learning and Computer Vision\\n\\nUniversity of British Columbia (Master’s degree), 2009 - 2011\\n\\nComputer Science graduate studies in Machine Learning, Vision, Motor Control - Average course grade: 94.4%\\n\\nUniversity of Toronto (Bachelor’s degree), 2005 - 2009\\n\\nDouble major in Computer Science and Physics, minor in Mathematics - Cumulative GPA: 3.74\\n\\nWORK EXPERIENCE\\n\\nGoogle Research (internship), June 2011 – September 2011\\n\\nDeveloped learning algorithms for video classification tasks - Worked on a large-scale learning framework for video analysis\\n\\nTeaching Assistant\\n\\n- -\\n\\n2011: Assisted with online offering of the Machine Learning class at Stanford 2011: Graduate Probabilistic Machine Learning class 2009-2010: Taught tutorial sections for a first year Discrete Mathematics class on four consecutive semesters\\n\\nCOURSE WORK', metadata={'source': './Andrej_Karpathy_Resume.pdf'}),\n",
       "  0.4791494607925415),\n",
       " (Document(page_content='COURSE WORK\\n\\n\\n\\nStanford: Machine Learning, Computer Vision, Convex Optimization, Probabilistic Graphical Models (I and II)\\n\\nUniversity of British Columbia: Machine Learning (I and II), Computer Vision (I\\n\\nand II)\\n\\nHACKING SKILLS\\n\\n\\n\\nPython, C++, MATLAB, Java, Objective C, Javascript/HTML/CSS, PHP, SQL\\n\\nINTERESTS Hobbies include Ping Pong, Ice skating, Scuba diving, PC strategy/fps games, Programming, and solving the Rubik’s cube in less than 20 seconds', metadata={'source': './Andrej_Karpathy_Resume.pdf'}),\n",
       "  0.48305660486221313)]"
      ]
     },
     "execution_count": 85,
     "metadata": {},
     "output_type": "execute_result"
    }
   ],
   "source": [
    "db.similarity_search_with_score(\"What is the candidate work experience?\", k=2)"
   ]
  },
  {
   "cell_type": "markdown",
   "id": "2d36dfc1",
   "metadata": {},
   "source": [
    "#### Storing and Loading Embeddings"
   ]
  },
  {
   "cell_type": "code",
   "execution_count": 86,
   "id": "b090cb05",
   "metadata": {},
   "outputs": [],
   "source": [
    "PERSIST_DIRECTORY = \"db\"\n",
    "\n",
    "db = Chroma.from_documents(\n",
    "    documents=texts, embedding=embeddings, persist_directory=PERSIST_DIRECTORY\n",
    ")"
   ]
  },
  {
   "cell_type": "code",
   "execution_count": 87,
   "id": "44cccd48",
   "metadata": {},
   "outputs": [
    {
     "data": {
      "text/plain": [
       "[(Document(page_content='Andrej Karpathy\\n\\nandrej.karpathy@gmail.com http://cs.stanford.edu/~karpathy/\\n\\nEDUCATION\\n\\nStanford University (PhD), 2011 –\\n\\nComputer Science, studying Machine Learning and Computer Vision\\n\\nUniversity of British Columbia (Master’s degree), 2009 - 2011\\n\\nComputer Science graduate studies in Machine Learning, Vision, Motor Control - Average course grade: 94.4%\\n\\nUniversity of Toronto (Bachelor’s degree), 2005 - 2009\\n\\nDouble major in Computer Science and Physics, minor in Mathematics - Cumulative GPA: 3.74\\n\\nWORK EXPERIENCE\\n\\nGoogle Research (internship), June 2011 – September 2011\\n\\nDeveloped learning algorithms for video classification tasks - Worked on a large-scale learning framework for video analysis\\n\\nTeaching Assistant\\n\\n- -\\n\\n2011: Assisted with online offering of the Machine Learning class at Stanford 2011: Graduate Probabilistic Machine Learning class 2009-2010: Taught tutorial sections for a first year Discrete Mathematics class on four consecutive semesters\\n\\nCOURSE WORK', metadata={'source': './Andrej_Karpathy_Resume.pdf'}),\n",
       "  0.4792347550392151),\n",
       " (Document(page_content='COURSE WORK\\n\\n\\n\\nStanford: Machine Learning, Computer Vision, Convex Optimization, Probabilistic Graphical Models (I and II)\\n\\nUniversity of British Columbia: Machine Learning (I and II), Computer Vision (I\\n\\nand II)\\n\\nHACKING SKILLS\\n\\n\\n\\nPython, C++, MATLAB, Java, Objective C, Javascript/HTML/CSS, PHP, SQL\\n\\nINTERESTS Hobbies include Ping Pong, Ice skating, Scuba diving, PC strategy/fps games, Programming, and solving the Rubik’s cube in less than 20 seconds', metadata={'source': './Andrej_Karpathy_Resume.pdf'}),\n",
       "  0.48317742347717285)]"
      ]
     },
     "execution_count": 87,
     "metadata": {},
     "output_type": "execute_result"
    }
   ],
   "source": [
    "db.similarity_search_with_score(\"What is the candidate work experience?\", k=2)"
   ]
  },
  {
   "cell_type": "code",
   "execution_count": 88,
   "id": "c1875e66",
   "metadata": {},
   "outputs": [],
   "source": [
    "db.persist()"
   ]
  },
  {
   "cell_type": "code",
   "execution_count": 89,
   "id": "1ac456a6",
   "metadata": {},
   "outputs": [],
   "source": [
    "# Loading data\n",
    "vectordb = Chroma(persist_directory=PERSIST_DIRECTORY, embedding_function=embeddings)"
   ]
  },
  {
   "cell_type": "code",
   "execution_count": 90,
   "id": "added396",
   "metadata": {},
   "outputs": [
    {
     "data": {
      "text/plain": [
       "[(Document(page_content='Andrej Karpathy\\n\\nandrej.karpathy@gmail.com http://cs.stanford.edu/~karpathy/\\n\\nEDUCATION\\n\\nStanford University (PhD), 2011 –\\n\\nComputer Science, studying Machine Learning and Computer Vision\\n\\nUniversity of British Columbia (Master’s degree), 2009 - 2011\\n\\nComputer Science graduate studies in Machine Learning, Vision, Motor Control - Average course grade: 94.4%\\n\\nUniversity of Toronto (Bachelor’s degree), 2005 - 2009\\n\\nDouble major in Computer Science and Physics, minor in Mathematics - Cumulative GPA: 3.74\\n\\nWORK EXPERIENCE\\n\\nGoogle Research (internship), June 2011 – September 2011\\n\\nDeveloped learning algorithms for video classification tasks - Worked on a large-scale learning framework for video analysis\\n\\nTeaching Assistant\\n\\n- -\\n\\n2011: Assisted with online offering of the Machine Learning class at Stanford 2011: Graduate Probabilistic Machine Learning class 2009-2010: Taught tutorial sections for a first year Discrete Mathematics class on four consecutive semesters\\n\\nCOURSE WORK', metadata={'source': './Andrej_Karpathy_Resume.pdf'}),\n",
       "  0.4792347550392151),\n",
       " (Document(page_content='COURSE WORK\\n\\n\\n\\nStanford: Machine Learning, Computer Vision, Convex Optimization, Probabilistic Graphical Models (I and II)\\n\\nUniversity of British Columbia: Machine Learning (I and II), Computer Vision (I\\n\\nand II)\\n\\nHACKING SKILLS\\n\\n\\n\\nPython, C++, MATLAB, Java, Objective C, Javascript/HTML/CSS, PHP, SQL\\n\\nINTERESTS Hobbies include Ping Pong, Ice skating, Scuba diving, PC strategy/fps games, Programming, and solving the Rubik’s cube in less than 20 seconds', metadata={'source': './Andrej_Karpathy_Resume.pdf'}),\n",
       "  0.48317742347717285)]"
      ]
     },
     "execution_count": 90,
     "metadata": {},
     "output_type": "execute_result"
    }
   ],
   "source": [
    "vectordb.similarity_search_with_score(\"What is the candidate work experience?\", k=2)"
   ]
  },
  {
   "cell_type": "markdown",
   "id": "3d499fc1",
   "metadata": {},
   "source": [
    "#### Creating a chain and using it on the saved data"
   ]
  },
  {
   "cell_type": "code",
   "execution_count": 91,
   "id": "e454230b",
   "metadata": {},
   "outputs": [],
   "source": [
    "chain = RetrievalQA.from_chain_type(\n",
    "    llm=ChatOpenAI(temperature=0),\n",
    "    chain_type=\"stuff\",\n",
    "    retriever=db.as_retriever(search_kwargs={\"k\": 2}),\n",
    ")"
   ]
  },
  {
   "cell_type": "code",
   "execution_count": 92,
   "id": "c93ff0e3",
   "metadata": {},
   "outputs": [],
   "source": [
    "query = \"What is the work experience of the candidate? Use no more than 2 sentences.\"\n",
    "response = chain.run(query)"
   ]
  },
  {
   "cell_type": "code",
   "execution_count": 93,
   "id": "7088cca0",
   "metadata": {},
   "outputs": [
    {
     "name": "stdout",
     "output_type": "stream",
     "text": [
      "The candidate has worked as an intern at Google Research, where he developed learning algorithms for\n",
      "video classification tasks, and has also worked as a teaching assistant for various computer science\n",
      "courses.\n"
     ]
    }
   ],
   "source": [
    "print_response(response)"
   ]
  },
  {
   "cell_type": "code",
   "execution_count": 94,
   "id": "762f3072",
   "metadata": {},
   "outputs": [
    {
     "name": "stdout",
     "output_type": "stream",
     "text": [
      "Andrej Karpathy is a PhD student in Computer Science at Stanford University, where he is studying\n",
      "Machine Learning and Computer Vision. He has a Master's degree in Computer Science from the\n",
      "University of British Columbia and a Bachelor's degree in Computer Science and Physics from the\n",
      "University of Toronto.\n"
     ]
    }
   ],
   "source": [
    "query = \"Give a background summary of the candidate. Use no more than 3 sentences.\"\n",
    "response = chain.run(query)\n",
    "print_response(response)"
   ]
  },
  {
   "cell_type": "code",
   "execution_count": 95,
   "id": "c11fecd9",
   "metadata": {},
   "outputs": [
    {
     "name": "stdout",
     "output_type": "stream",
     "text": [
      "As an AI language model, I cannot predict the future, but based on the candidate's educational\n",
      "background, work experience, and course work, it is evident that Andrej Karpathy has a strong\n",
      "foundation in computer science, machine learning, and computer vision. He has also worked as a\n",
      "research intern at Google, which is a significant achievement. Additionally, he has a good\n",
      "understanding of programming languages such as Python, C++, and Java.   Considering all these\n",
      "factors, I would rate his chances of becoming a top-tier DL researcher 2 years from now as 8 out of\n",
      "10. However, it is essential to note that becoming a top-tier researcher requires more than just a\n",
      "strong educational background and work experience. It also requires a passion for research,\n",
      "dedication, and hard work.\n"
     ]
    }
   ],
   "source": [
    "query = \"\"\"\n",
    "How likely is this candidate to be a top-tier DL researcher 2 years from now? \n",
    "Use 0-10 scale, where\n",
    "0 - chance is nonexistent\n",
    "10 - beyond reasonable doubt\n",
    "\n",
    "You must choose a number and explain why\n",
    "\"\"\"\n",
    "response = chain.run(query)\n",
    "print_response(response)"
   ]
  }
 ],
 "metadata": {
  "kernelspec": {
   "display_name": "Python 3 (ipykernel)",
   "language": "python",
   "name": "python3"
  },
  "language_info": {
   "codemirror_mode": {
    "name": "ipython",
    "version": 3
   },
   "file_extension": ".py",
   "mimetype": "text/x-python",
   "name": "python",
   "nbconvert_exporter": "python",
   "pygments_lexer": "ipython3",
   "version": "3.10.6"
  }
 },
 "nbformat": 4,
 "nbformat_minor": 5
}
